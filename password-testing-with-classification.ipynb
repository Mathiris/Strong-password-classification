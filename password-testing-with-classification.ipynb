{
 "cells": [
  {
   "cell_type": "code",
   "execution_count": 1,
   "id": "12720bca",
   "metadata": {
    "_cell_guid": "b1076dfc-b9ad-4769-8c92-a6c4dae69d19",
    "_uuid": "8f2839f25d086af736a60e9eeb907d3b93b6e0e5",
    "execution": {
     "iopub.execute_input": "2023-08-29T11:15:46.321564Z",
     "iopub.status.busy": "2023-08-29T11:15:46.321159Z",
     "iopub.status.idle": "2023-08-29T11:15:46.346023Z",
     "shell.execute_reply": "2023-08-29T11:15:46.344572Z"
    },
    "papermill": {
     "duration": 0.043719,
     "end_time": "2023-08-29T11:15:46.349405",
     "exception": false,
     "start_time": "2023-08-29T11:15:46.305686",
     "status": "completed"
    },
    "tags": []
   },
   "outputs": [
    {
     "name": "stdout",
     "output_type": "stream",
     "text": [
      "/kaggle/input/top-10-million-passwords/10millionPasswords\n"
     ]
    }
   ],
   "source": [
    "# This Python 3 environment comes with many helpful analytics libraries installed\n",
    "# It is defined by the kaggle/python Docker image: https://github.com/kaggle/docker-python\n",
    "# For example, here's several helpful packages to load\n",
    "\n",
    "import numpy as np # linear algebra\n",
    "import pandas as pd # data processing, CSV file I/O (e.g. pd.read_csv)\n",
    "import re\n",
    "\n",
    "# Input data files are available in the read-only \"../input/\" directory\n",
    "# For example, running this (by clicking run or pressing Shift+Enter) will list all files under the input directory\n",
    "\n",
    "import os\n",
    "for dirname, _, filenames in os.walk('/kaggle/input'):\n",
    "    for filename in filenames:\n",
    "        print(os.path.join(dirname, filename))\n",
    "\n",
    "# You can write up to 20GB to the current directory (/kaggle/working/) that gets preserved as output when you create a version using \"Save & Run All\" \n",
    "# You can also write temporary files to /kaggle/temp/, but they won't be saved outside of the current session"
   ]
  },
  {
   "cell_type": "code",
   "execution_count": 2,
   "id": "dfbef810",
   "metadata": {
    "execution": {
     "iopub.execute_input": "2023-08-29T11:15:46.378699Z",
     "iopub.status.busy": "2023-08-29T11:15:46.378280Z",
     "iopub.status.idle": "2023-08-29T11:15:47.482408Z",
     "shell.execute_reply": "2023-08-29T11:15:47.480986Z"
    },
    "papermill": {
     "duration": 1.122779,
     "end_time": "2023-08-29T11:15:47.485769",
     "exception": false,
     "start_time": "2023-08-29T11:15:46.362990",
     "status": "completed"
    },
    "tags": []
   },
   "outputs": [
    {
     "name": "stdout",
     "output_type": "stream",
     "text": [
      "File successfully read with delimiter: ,\n",
      "   rank   password\n",
      "0     1     123456\n",
      "1     2   password\n",
      "2     3   12345678\n",
      "3     4     qwerty\n",
      "4     5  123456789\n"
     ]
    }
   ],
   "source": [
    "file_path = os.path.join(dirname, filename)\n",
    "\n",
    "# Try reading the file as CSV with different delimiter options\n",
    "delimiters = [',', '\\t', ';']  # Common delimiters: comma, tab, semicolon\n",
    "\n",
    "for delimiter in delimiters:\n",
    "    try:\n",
    "        df = pd.read_csv(file_path, sep=delimiter)\n",
    "        print(\"File successfully read with delimiter:\", delimiter)\n",
    "        print(df.head())  # Display the first few rows of the DataFrame\n",
    "        break\n",
    "    except pd.errors.ParserError:\n",
    "        pass  # If the current delimiter doesn't work, try the next one\n",
    "else:\n",
    "    print(\"Unable to read the file as CSV with any delimiter.\")"
   ]
  },
  {
   "cell_type": "code",
   "execution_count": 3,
   "id": "59566f5e",
   "metadata": {
    "execution": {
     "iopub.execute_input": "2023-08-29T11:15:47.516652Z",
     "iopub.status.busy": "2023-08-29T11:15:47.516188Z",
     "iopub.status.idle": "2023-08-29T11:15:47.917396Z",
     "shell.execute_reply": "2023-08-29T11:15:47.916473Z"
    },
    "papermill": {
     "duration": 0.420256,
     "end_time": "2023-08-29T11:15:47.919612",
     "exception": false,
     "start_time": "2023-08-29T11:15:47.499356",
     "status": "completed"
    },
    "tags": []
   },
   "outputs": [
    {
     "data": {
      "text/html": [
       "<div>\n",
       "<style scoped>\n",
       "    .dataframe tbody tr th:only-of-type {\n",
       "        vertical-align: middle;\n",
       "    }\n",
       "\n",
       "    .dataframe tbody tr th {\n",
       "        vertical-align: top;\n",
       "    }\n",
       "\n",
       "    .dataframe thead th {\n",
       "        text-align: right;\n",
       "    }\n",
       "</style>\n",
       "<table border=\"1\" class=\"dataframe\">\n",
       "  <thead>\n",
       "    <tr style=\"text-align: right;\">\n",
       "      <th></th>\n",
       "      <th>rank</th>\n",
       "      <th>password</th>\n",
       "    </tr>\n",
       "  </thead>\n",
       "  <tbody>\n",
       "    <tr>\n",
       "      <th>0</th>\n",
       "      <td>1</td>\n",
       "      <td>123456</td>\n",
       "    </tr>\n",
       "    <tr>\n",
       "      <th>1</th>\n",
       "      <td>2</td>\n",
       "      <td>password</td>\n",
       "    </tr>\n",
       "    <tr>\n",
       "      <th>2</th>\n",
       "      <td>3</td>\n",
       "      <td>12345678</td>\n",
       "    </tr>\n",
       "    <tr>\n",
       "      <th>3</th>\n",
       "      <td>4</td>\n",
       "      <td>qwerty</td>\n",
       "    </tr>\n",
       "    <tr>\n",
       "      <th>4</th>\n",
       "      <td>5</td>\n",
       "      <td>123456789</td>\n",
       "    </tr>\n",
       "    <tr>\n",
       "      <th>...</th>\n",
       "      <td>...</td>\n",
       "      <td>...</td>\n",
       "    </tr>\n",
       "    <tr>\n",
       "      <th>999992</th>\n",
       "      <td>999993</td>\n",
       "      <td>vjht1051</td>\n",
       "    </tr>\n",
       "    <tr>\n",
       "      <th>999993</th>\n",
       "      <td>999994</td>\n",
       "      <td>vjht08</td>\n",
       "    </tr>\n",
       "    <tr>\n",
       "      <th>999994</th>\n",
       "      <td>999995</td>\n",
       "      <td>Vjht0409</td>\n",
       "    </tr>\n",
       "    <tr>\n",
       "      <th>999995</th>\n",
       "      <td>999996</td>\n",
       "      <td>vjht04</td>\n",
       "    </tr>\n",
       "    <tr>\n",
       "      <th>999996</th>\n",
       "      <td>999997</td>\n",
       "      <td>vjht01</td>\n",
       "    </tr>\n",
       "  </tbody>\n",
       "</table>\n",
       "<p>999995 rows × 2 columns</p>\n",
       "</div>"
      ],
      "text/plain": [
       "          rank   password\n",
       "0            1     123456\n",
       "1            2   password\n",
       "2            3   12345678\n",
       "3            4     qwerty\n",
       "4            5  123456789\n",
       "...        ...        ...\n",
       "999992  999993   vjht1051\n",
       "999993  999994     vjht08\n",
       "999994  999995   Vjht0409\n",
       "999995  999996     vjht04\n",
       "999996  999997     vjht01\n",
       "\n",
       "[999995 rows x 2 columns]"
      ]
     },
     "execution_count": 3,
     "metadata": {},
     "output_type": "execute_result"
    }
   ],
   "source": [
    "df.dropna()"
   ]
  },
  {
   "cell_type": "code",
   "execution_count": 4,
   "id": "79cf74e6",
   "metadata": {
    "execution": {
     "iopub.execute_input": "2023-08-29T11:15:47.949539Z",
     "iopub.status.busy": "2023-08-29T11:15:47.948206Z",
     "iopub.status.idle": "2023-08-29T11:15:48.047875Z",
     "shell.execute_reply": "2023-08-29T11:15:48.046399Z"
    },
    "papermill": {
     "duration": 0.118154,
     "end_time": "2023-08-29T11:15:48.051087",
     "exception": false,
     "start_time": "2023-08-29T11:15:47.932933",
     "status": "completed"
    },
    "tags": []
   },
   "outputs": [],
   "source": [
    "#We had to our dataset a medium-strong password, to see later his score\n",
    "new_row = {'rank': '999998', 'password': 'GgnePm7w'}\n",
    "df = pd.concat([df, pd.DataFrame([new_row])], ignore_index=True)"
   ]
  },
  {
   "cell_type": "code",
   "execution_count": 5,
   "id": "afb39280",
   "metadata": {
    "execution": {
     "iopub.execute_input": "2023-08-29T11:15:48.079896Z",
     "iopub.status.busy": "2023-08-29T11:15:48.079410Z",
     "iopub.status.idle": "2023-08-29T11:15:48.906228Z",
     "shell.execute_reply": "2023-08-29T11:15:48.904954Z"
    },
    "papermill": {
     "duration": 0.84474,
     "end_time": "2023-08-29T11:15:48.909223",
     "exception": false,
     "start_time": "2023-08-29T11:15:48.064483",
     "status": "completed"
    },
    "tags": []
   },
   "outputs": [
    {
     "data": {
      "text/html": [
       "<div>\n",
       "<style scoped>\n",
       "    .dataframe tbody tr th:only-of-type {\n",
       "        vertical-align: middle;\n",
       "    }\n",
       "\n",
       "    .dataframe tbody tr th {\n",
       "        vertical-align: top;\n",
       "    }\n",
       "\n",
       "    .dataframe thead th {\n",
       "        text-align: right;\n",
       "    }\n",
       "</style>\n",
       "<table border=\"1\" class=\"dataframe\">\n",
       "  <thead>\n",
       "    <tr style=\"text-align: right;\">\n",
       "      <th></th>\n",
       "      <th>rank</th>\n",
       "      <th>password</th>\n",
       "      <th>size</th>\n",
       "    </tr>\n",
       "  </thead>\n",
       "  <tbody>\n",
       "    <tr>\n",
       "      <th>0</th>\n",
       "      <td>1</td>\n",
       "      <td>123456</td>\n",
       "      <td>6</td>\n",
       "    </tr>\n",
       "    <tr>\n",
       "      <th>1</th>\n",
       "      <td>2</td>\n",
       "      <td>password</td>\n",
       "      <td>8</td>\n",
       "    </tr>\n",
       "    <tr>\n",
       "      <th>2</th>\n",
       "      <td>3</td>\n",
       "      <td>12345678</td>\n",
       "      <td>8</td>\n",
       "    </tr>\n",
       "    <tr>\n",
       "      <th>3</th>\n",
       "      <td>4</td>\n",
       "      <td>qwerty</td>\n",
       "      <td>6</td>\n",
       "    </tr>\n",
       "    <tr>\n",
       "      <th>4</th>\n",
       "      <td>5</td>\n",
       "      <td>123456789</td>\n",
       "      <td>9</td>\n",
       "    </tr>\n",
       "  </tbody>\n",
       "</table>\n",
       "</div>"
      ],
      "text/plain": [
       "  rank   password  size\n",
       "0    1     123456     6\n",
       "1    2   password     8\n",
       "2    3   12345678     8\n",
       "3    4     qwerty     6\n",
       "4    5  123456789     9"
      ]
     },
     "execution_count": 5,
     "metadata": {},
     "output_type": "execute_result"
    }
   ],
   "source": [
    "#create a new column, size, with the total size of the password\n",
    "df['password'] = df['password'].astype(str)\n",
    "password_size = lambda x : len(x)\n",
    "df['size'] = df['password'].apply(password_size)\n",
    "df.head()"
   ]
  },
  {
   "cell_type": "code",
   "execution_count": 6,
   "id": "1e7b6d3f",
   "metadata": {
    "execution": {
     "iopub.execute_input": "2023-08-29T11:15:48.938429Z",
     "iopub.status.busy": "2023-08-29T11:15:48.937942Z",
     "iopub.status.idle": "2023-08-29T11:15:51.390586Z",
     "shell.execute_reply": "2023-08-29T11:15:51.389370Z"
    },
    "papermill": {
     "duration": 2.471024,
     "end_time": "2023-08-29T11:15:51.393669",
     "exception": false,
     "start_time": "2023-08-29T11:15:48.922645",
     "status": "completed"
    },
    "tags": []
   },
   "outputs": [
    {
     "data": {
      "text/html": [
       "<div>\n",
       "<style scoped>\n",
       "    .dataframe tbody tr th:only-of-type {\n",
       "        vertical-align: middle;\n",
       "    }\n",
       "\n",
       "    .dataframe tbody tr th {\n",
       "        vertical-align: top;\n",
       "    }\n",
       "\n",
       "    .dataframe thead th {\n",
       "        text-align: right;\n",
       "    }\n",
       "</style>\n",
       "<table border=\"1\" class=\"dataframe\">\n",
       "  <thead>\n",
       "    <tr style=\"text-align: right;\">\n",
       "      <th></th>\n",
       "      <th>rank</th>\n",
       "      <th>password</th>\n",
       "      <th>size</th>\n",
       "      <th>contains_uppercase</th>\n",
       "      <th>contains_specialcharacter</th>\n",
       "      <th>contains_number</th>\n",
       "    </tr>\n",
       "  </thead>\n",
       "  <tbody>\n",
       "    <tr>\n",
       "      <th>0</th>\n",
       "      <td>1</td>\n",
       "      <td>123456</td>\n",
       "      <td>6</td>\n",
       "      <td>False</td>\n",
       "      <td>False</td>\n",
       "      <td>True</td>\n",
       "    </tr>\n",
       "    <tr>\n",
       "      <th>1</th>\n",
       "      <td>2</td>\n",
       "      <td>password</td>\n",
       "      <td>8</td>\n",
       "      <td>False</td>\n",
       "      <td>False</td>\n",
       "      <td>False</td>\n",
       "    </tr>\n",
       "    <tr>\n",
       "      <th>2</th>\n",
       "      <td>3</td>\n",
       "      <td>12345678</td>\n",
       "      <td>8</td>\n",
       "      <td>False</td>\n",
       "      <td>False</td>\n",
       "      <td>True</td>\n",
       "    </tr>\n",
       "    <tr>\n",
       "      <th>3</th>\n",
       "      <td>4</td>\n",
       "      <td>qwerty</td>\n",
       "      <td>6</td>\n",
       "      <td>False</td>\n",
       "      <td>False</td>\n",
       "      <td>False</td>\n",
       "    </tr>\n",
       "    <tr>\n",
       "      <th>4</th>\n",
       "      <td>5</td>\n",
       "      <td>123456789</td>\n",
       "      <td>9</td>\n",
       "      <td>False</td>\n",
       "      <td>False</td>\n",
       "      <td>True</td>\n",
       "    </tr>\n",
       "  </tbody>\n",
       "</table>\n",
       "</div>"
      ],
      "text/plain": [
       "  rank   password  size  contains_uppercase  contains_specialcharacter  \\\n",
       "0    1     123456     6               False                      False   \n",
       "1    2   password     8               False                      False   \n",
       "2    3   12345678     8               False                      False   \n",
       "3    4     qwerty     6               False                      False   \n",
       "4    5  123456789     9               False                      False   \n",
       "\n",
       "   contains_number  \n",
       "0             True  \n",
       "1            False  \n",
       "2             True  \n",
       "3            False  \n",
       "4             True  "
      ]
     },
     "execution_count": 6,
     "metadata": {},
     "output_type": "execute_result"
    }
   ],
   "source": [
    "#create a column uppercase, this is a boolean to say if our password contain an upper\n",
    "df['contains_uppercase'] = df['password'].str.contains(r'[A-Z]')\n",
    "#same for special character\n",
    "df['contains_specialcharacter'] = df['password'].str.contains(r'[!@#$%^&*()_+{}|:;\"\\'<>,.?/\\[\\]\\-]')\n",
    "#same for number\n",
    "df['contains_number'] = df['password'].str.contains(r'[0-9]')\n",
    "df.head()"
   ]
  },
  {
   "cell_type": "code",
   "execution_count": 7,
   "id": "22ee519e",
   "metadata": {
    "execution": {
     "iopub.execute_input": "2023-08-29T11:15:51.425624Z",
     "iopub.status.busy": "2023-08-29T11:15:51.425162Z",
     "iopub.status.idle": "2023-08-29T11:15:51.454987Z",
     "shell.execute_reply": "2023-08-29T11:15:51.453239Z"
    },
    "papermill": {
     "duration": 0.049574,
     "end_time": "2023-08-29T11:15:51.458128",
     "exception": false,
     "start_time": "2023-08-29T11:15:51.408554",
     "status": "completed"
    },
    "tags": []
   },
   "outputs": [],
   "source": [
    "#convert them to int (0 = False 1= True) for an easiest data viz\n",
    "df['contains_uppercase'] = df['contains_uppercase'].astype(int)\n",
    "df['contains_specialcharacter'] = df['contains_specialcharacter'] .astype(int)\n",
    "df['contains_number'] = df['contains_number'] .astype(int)"
   ]
  },
  {
   "cell_type": "code",
   "execution_count": 8,
   "id": "37d0aab7",
   "metadata": {
    "execution": {
     "iopub.execute_input": "2023-08-29T11:15:51.487673Z",
     "iopub.status.busy": "2023-08-29T11:15:51.487220Z",
     "iopub.status.idle": "2023-08-29T11:15:51.496222Z",
     "shell.execute_reply": "2023-08-29T11:15:51.494845Z"
    },
    "papermill": {
     "duration": 0.026792,
     "end_time": "2023-08-29T11:15:51.498825",
     "exception": false,
     "start_time": "2023-08-29T11:15:51.472033",
     "status": "completed"
    },
    "tags": []
   },
   "outputs": [],
   "source": [
    "#create measure for the dataviz\n",
    "#total size of the dataframe\n",
    "df_size = len(df)\n",
    "#sum of uppercase\n",
    "df_uppercase_size = df['contains_uppercase'].sum()\n",
    "#total - sum of uppercase\n",
    "df_without_uppercase_size = df_size - df_uppercase_size"
   ]
  },
  {
   "cell_type": "code",
   "execution_count": 9,
   "id": "154724e7",
   "metadata": {
    "execution": {
     "iopub.execute_input": "2023-08-29T11:15:51.528715Z",
     "iopub.status.busy": "2023-08-29T11:15:51.528245Z",
     "iopub.status.idle": "2023-08-29T11:15:51.740537Z",
     "shell.execute_reply": "2023-08-29T11:15:51.738295Z"
    },
    "papermill": {
     "duration": 0.233134,
     "end_time": "2023-08-29T11:15:51.745664",
     "exception": false,
     "start_time": "2023-08-29T11:15:51.512530",
     "status": "completed"
    },
    "tags": []
   },
   "outputs": [
    {
     "name": "stdout",
     "output_type": "stream",
     "text": [
      "Password without uppercase: 870134\n",
      "Password with uppercase: 129864\n"
     ]
    },
    {
     "data": {
      "image/png": "[encoded data removed]",
      "text/plain": [
       "<Figure size 400x400 with 1 Axes>"
      ]
     },
     "metadata": {},
     "output_type": "display_data"
    }
   ],
   "source": [
    "import matplotlib.pyplot as plt\n",
    "plt.figure(figsize = (4, 4))\n",
    "x = [df_without_uppercase_size, df_uppercase_size]\n",
    "plt.pie(x, labels = ['Without upperCase password', 'upperCase password'], normalize = True)\n",
    "print('Password without uppercase:',df_without_uppercase_size)\n",
    "print('Password with uppercase:',df_uppercase_size)\n"
   ]
  },
  {
   "cell_type": "code",
   "execution_count": 10,
   "id": "91f553ff",
   "metadata": {
    "execution": {
     "iopub.execute_input": "2023-08-29T11:15:51.795091Z",
     "iopub.status.busy": "2023-08-29T11:15:51.794586Z",
     "iopub.status.idle": "2023-08-29T11:15:51.801252Z",
     "shell.execute_reply": "2023-08-29T11:15:51.800275Z"
    },
    "papermill": {
     "duration": 0.025898,
     "end_time": "2023-08-29T11:15:51.803492",
     "exception": false,
     "start_time": "2023-08-29T11:15:51.777594",
     "status": "completed"
    },
    "tags": []
   },
   "outputs": [],
   "source": [
    "#sum of special character password\n",
    "df_specialcharacter_size = df['contains_specialcharacter'].sum()\n",
    "df_without_specialcharacter_size = df_size - df_specialcharacter_size"
   ]
  },
  {
   "cell_type": "code",
   "execution_count": 11,
   "id": "00eae69f",
   "metadata": {
    "execution": {
     "iopub.execute_input": "2023-08-29T11:15:51.835240Z",
     "iopub.status.busy": "2023-08-29T11:15:51.834797Z",
     "iopub.status.idle": "2023-08-29T11:15:52.003119Z",
     "shell.execute_reply": "2023-08-29T11:15:52.001507Z"
    },
    "papermill": {
     "duration": 0.189063,
     "end_time": "2023-08-29T11:15:52.007515",
     "exception": false,
     "start_time": "2023-08-29T11:15:51.818452",
     "status": "completed"
    },
    "tags": []
   },
   "outputs": [
    {
     "name": "stdout",
     "output_type": "stream",
     "text": [
      "Password without special character: 990220\n",
      "Password with special character: 9778\n"
     ]
    },
    {
     "data": {
      "image/png": "[encoded data removed]",
      "text/plain": [
       "<Figure size 400x400 with 1 Axes>"
      ]
     },
     "metadata": {},
     "output_type": "display_data"
    }
   ],
   "source": [
    "plt.figure(figsize = (4, 4))\n",
    "x = [df_without_specialcharacter_size, df_specialcharacter_size]\n",
    "plt.pie(x, labels = ['Without special character password', 'Special character password'], normalize = True)\n",
    "print('Password without special character:',df_without_specialcharacter_size)\n",
    "print('Password with special character:',df_specialcharacter_size)"
   ]
  },
  {
   "cell_type": "code",
   "execution_count": 12,
   "id": "bc6e0b49",
   "metadata": {
    "execution": {
     "iopub.execute_input": "2023-08-29T11:15:52.064008Z",
     "iopub.status.busy": "2023-08-29T11:15:52.063559Z",
     "iopub.status.idle": "2023-08-29T11:15:52.069317Z",
     "shell.execute_reply": "2023-08-29T11:15:52.068421Z"
    },
    "papermill": {
     "duration": 0.031804,
     "end_time": "2023-08-29T11:15:52.071684",
     "exception": false,
     "start_time": "2023-08-29T11:15:52.039880",
     "status": "completed"
    },
    "tags": []
   },
   "outputs": [],
   "source": [
    "#sum of password with a number\n",
    "df_number_size = df['contains_number'].sum()\n",
    "df_without_number_size = df_size - df_number_size"
   ]
  },
  {
   "cell_type": "code",
   "execution_count": 13,
   "id": "2cf235fc",
   "metadata": {
    "execution": {
     "iopub.execute_input": "2023-08-29T11:15:52.104481Z",
     "iopub.status.busy": "2023-08-29T11:15:52.104104Z",
     "iopub.status.idle": "2023-08-29T11:15:52.228622Z",
     "shell.execute_reply": "2023-08-29T11:15:52.227104Z"
    },
    "papermill": {
     "duration": 0.145844,
     "end_time": "2023-08-29T11:15:52.233196",
     "exception": false,
     "start_time": "2023-08-29T11:15:52.087352",
     "status": "completed"
    },
    "tags": []
   },
   "outputs": [
    {
     "name": "stdout",
     "output_type": "stream",
     "text": [
      "Password without number: 393907\n",
      "Password with number: 606091\n"
     ]
    },
    {
     "data": {
      "image/png": "[encoded data removed]",
      "text/plain": [
       "<Figure size 400x400 with 1 Axes>"
      ]
     },
     "metadata": {},
     "output_type": "display_data"
    }
   ],
   "source": [
    "plt.figure(figsize = (4, 4))\n",
    "x = [df_without_number_size, df_number_size]\n",
    "plt.pie(x, labels = ['Without number password', 'Number password'], normalize = True)\n",
    "print('Password without number:',df_without_number_size)\n",
    "print('Password with number:',df_number_size)"
   ]
  },
  {
   "cell_type": "code",
   "execution_count": 14,
   "id": "458a4884",
   "metadata": {
    "execution": {
     "iopub.execute_input": "2023-08-29T11:15:52.301580Z",
     "iopub.status.busy": "2023-08-29T11:15:52.301156Z",
     "iopub.status.idle": "2023-08-29T11:15:52.320393Z",
     "shell.execute_reply": "2023-08-29T11:15:52.319553Z"
    },
    "papermill": {
     "duration": 0.05637,
     "end_time": "2023-08-29T11:15:52.322672",
     "exception": false,
     "start_time": "2023-08-29T11:15:52.266302",
     "status": "completed"
    },
    "tags": []
   },
   "outputs": [],
   "source": [
    "#Count of size form password, to use it in barplot\n",
    "value_counts_size = df['size'].value_counts()"
   ]
  },
  {
   "cell_type": "code",
   "execution_count": 15,
   "id": "c95ebcef",
   "metadata": {
    "execution": {
     "iopub.execute_input": "2023-08-29T11:15:52.355712Z",
     "iopub.status.busy": "2023-08-29T11:15:52.355009Z",
     "iopub.status.idle": "2023-08-29T11:15:52.816278Z",
     "shell.execute_reply": "2023-08-29T11:15:52.814953Z"
    },
    "papermill": {
     "duration": 0.480775,
     "end_time": "2023-08-29T11:15:52.818905",
     "exception": false,
     "start_time": "2023-08-29T11:15:52.338130",
     "status": "completed"
    },
    "tags": []
   },
   "outputs": [
    {
     "data": {
      "image/png": "[encoded data removed]",
      "text/plain": [
       "<Figure size 640x480 with 1 Axes>"
      ]
     },
     "metadata": {},
     "output_type": "display_data"
    }
   ],
   "source": [
    "# Create a bar plot\n",
    "plt.bar(value_counts_size.index, value_counts_size.values)\n",
    "plt.xlabel('Size')\n",
    "plt.ylabel('Count')\n",
    "plt.title('Bar Plot of Size Counts')\n",
    "plt.xticks(rotation='vertical')\n",
    "plt.xlim(min(value_counts_size.index), max(value_counts_size.index))\n",
    "plt.tight_layout()\n",
    "plt.show()"
   ]
  },
  {
   "cell_type": "code",
   "execution_count": 16,
   "id": "392e7feb",
   "metadata": {
    "execution": {
     "iopub.execute_input": "2023-08-29T11:15:52.851673Z",
     "iopub.status.busy": "2023-08-29T11:15:52.851282Z",
     "iopub.status.idle": "2023-08-29T11:15:55.674646Z",
     "shell.execute_reply": "2023-08-29T11:15:55.673426Z"
    },
    "papermill": {
     "duration": 2.842859,
     "end_time": "2023-08-29T11:15:55.677325",
     "exception": false,
     "start_time": "2023-08-29T11:15:52.834466",
     "status": "completed"
    },
    "tags": []
   },
   "outputs": [
    {
     "data": {
      "text/html": [
       "<div>\n",
       "<style scoped>\n",
       "    .dataframe tbody tr th:only-of-type {\n",
       "        vertical-align: middle;\n",
       "    }\n",
       "\n",
       "    .dataframe tbody tr th {\n",
       "        vertical-align: top;\n",
       "    }\n",
       "\n",
       "    .dataframe thead th {\n",
       "        text-align: right;\n",
       "    }\n",
       "</style>\n",
       "<table border=\"1\" class=\"dataframe\">\n",
       "  <thead>\n",
       "    <tr style=\"text-align: right;\">\n",
       "      <th></th>\n",
       "      <th>rank</th>\n",
       "      <th>password</th>\n",
       "      <th>size</th>\n",
       "      <th>contains_uppercase</th>\n",
       "      <th>contains_specialcharacter</th>\n",
       "      <th>contains_number</th>\n",
       "      <th>text_password</th>\n",
       "    </tr>\n",
       "  </thead>\n",
       "  <tbody>\n",
       "    <tr>\n",
       "      <th>0</th>\n",
       "      <td>1</td>\n",
       "      <td>123456</td>\n",
       "      <td>6</td>\n",
       "      <td>0</td>\n",
       "      <td>0</td>\n",
       "      <td>1</td>\n",
       "      <td></td>\n",
       "    </tr>\n",
       "    <tr>\n",
       "      <th>1</th>\n",
       "      <td>2</td>\n",
       "      <td>password</td>\n",
       "      <td>8</td>\n",
       "      <td>0</td>\n",
       "      <td>0</td>\n",
       "      <td>0</td>\n",
       "      <td>password</td>\n",
       "    </tr>\n",
       "    <tr>\n",
       "      <th>2</th>\n",
       "      <td>3</td>\n",
       "      <td>12345678</td>\n",
       "      <td>8</td>\n",
       "      <td>0</td>\n",
       "      <td>0</td>\n",
       "      <td>1</td>\n",
       "      <td></td>\n",
       "    </tr>\n",
       "    <tr>\n",
       "      <th>3</th>\n",
       "      <td>4</td>\n",
       "      <td>qwerty</td>\n",
       "      <td>6</td>\n",
       "      <td>0</td>\n",
       "      <td>0</td>\n",
       "      <td>0</td>\n",
       "      <td>qwerty</td>\n",
       "    </tr>\n",
       "    <tr>\n",
       "      <th>4</th>\n",
       "      <td>5</td>\n",
       "      <td>123456789</td>\n",
       "      <td>9</td>\n",
       "      <td>0</td>\n",
       "      <td>0</td>\n",
       "      <td>1</td>\n",
       "      <td></td>\n",
       "    </tr>\n",
       "  </tbody>\n",
       "</table>\n",
       "</div>"
      ],
      "text/plain": [
       "  rank   password  size  contains_uppercase  contains_specialcharacter  \\\n",
       "0    1     123456     6                   0                          0   \n",
       "1    2   password     8                   0                          0   \n",
       "2    3   12345678     8                   0                          0   \n",
       "3    4     qwerty     6                   0                          0   \n",
       "4    5  123456789     9                   0                          0   \n",
       "\n",
       "   contains_number text_password  \n",
       "0                1                \n",
       "1                0      password  \n",
       "2                1                \n",
       "3                0        qwerty  \n",
       "4                1                "
      ]
     },
     "execution_count": 16,
     "metadata": {},
     "output_type": "execute_result"
    }
   ],
   "source": [
    "#extract string from password by removing number and special character\n",
    "df['text_password'] = df['password'].apply(lambda x: re.sub(r'[^a-zA-Z\\s]', '', x))\n",
    "df.head()"
   ]
  },
  {
   "cell_type": "code",
   "execution_count": 17,
   "id": "5abaa35a",
   "metadata": {
    "execution": {
     "iopub.execute_input": "2023-08-29T11:15:55.711140Z",
     "iopub.status.busy": "2023-08-29T11:15:55.710721Z",
     "iopub.status.idle": "2023-08-29T11:15:56.709954Z",
     "shell.execute_reply": "2023-08-29T11:15:56.708938Z"
    },
    "papermill": {
     "duration": 1.019435,
     "end_time": "2023-08-29T11:15:56.712821",
     "exception": false,
     "start_time": "2023-08-29T11:15:55.693386",
     "status": "completed"
    },
    "tags": []
   },
   "outputs": [
    {
     "data": {
      "text/html": [
       "<div>\n",
       "<style scoped>\n",
       "    .dataframe tbody tr th:only-of-type {\n",
       "        vertical-align: middle;\n",
       "    }\n",
       "\n",
       "    .dataframe tbody tr th {\n",
       "        vertical-align: top;\n",
       "    }\n",
       "\n",
       "    .dataframe thead th {\n",
       "        text-align: right;\n",
       "    }\n",
       "</style>\n",
       "<table border=\"1\" class=\"dataframe\">\n",
       "  <thead>\n",
       "    <tr style=\"text-align: right;\">\n",
       "      <th></th>\n",
       "      <th>rank</th>\n",
       "      <th>password</th>\n",
       "      <th>size</th>\n",
       "      <th>contains_uppercase</th>\n",
       "      <th>contains_specialcharacter</th>\n",
       "      <th>contains_number</th>\n",
       "      <th>text_password</th>\n",
       "      <th>password_occurrence</th>\n",
       "    </tr>\n",
       "  </thead>\n",
       "  <tbody>\n",
       "    <tr>\n",
       "      <th>0</th>\n",
       "      <td>1</td>\n",
       "      <td>123456</td>\n",
       "      <td>6</td>\n",
       "      <td>0</td>\n",
       "      <td>0</td>\n",
       "      <td>1</td>\n",
       "      <td></td>\n",
       "      <td>165520</td>\n",
       "    </tr>\n",
       "    <tr>\n",
       "      <th>1</th>\n",
       "      <td>2</td>\n",
       "      <td>password</td>\n",
       "      <td>8</td>\n",
       "      <td>0</td>\n",
       "      <td>0</td>\n",
       "      <td>0</td>\n",
       "      <td>password</td>\n",
       "      <td>150</td>\n",
       "    </tr>\n",
       "    <tr>\n",
       "      <th>2</th>\n",
       "      <td>3</td>\n",
       "      <td>12345678</td>\n",
       "      <td>8</td>\n",
       "      <td>0</td>\n",
       "      <td>0</td>\n",
       "      <td>1</td>\n",
       "      <td></td>\n",
       "      <td>165520</td>\n",
       "    </tr>\n",
       "    <tr>\n",
       "      <th>3</th>\n",
       "      <td>4</td>\n",
       "      <td>qwerty</td>\n",
       "      <td>6</td>\n",
       "      <td>0</td>\n",
       "      <td>0</td>\n",
       "      <td>0</td>\n",
       "      <td>qwerty</td>\n",
       "      <td>308</td>\n",
       "    </tr>\n",
       "    <tr>\n",
       "      <th>4</th>\n",
       "      <td>5</td>\n",
       "      <td>123456789</td>\n",
       "      <td>9</td>\n",
       "      <td>0</td>\n",
       "      <td>0</td>\n",
       "      <td>1</td>\n",
       "      <td></td>\n",
       "      <td>165520</td>\n",
       "    </tr>\n",
       "  </tbody>\n",
       "</table>\n",
       "</div>"
      ],
      "text/plain": [
       "  rank   password  size  contains_uppercase  contains_specialcharacter  \\\n",
       "0    1     123456     6                   0                          0   \n",
       "1    2   password     8                   0                          0   \n",
       "2    3   12345678     8                   0                          0   \n",
       "3    4     qwerty     6                   0                          0   \n",
       "4    5  123456789     9                   0                          0   \n",
       "\n",
       "   contains_number text_password  password_occurrence  \n",
       "0                1                             165520  \n",
       "1                0      password                  150  \n",
       "2                1                             165520  \n",
       "3                0        qwerty                  308  \n",
       "4                1                             165520  "
      ]
     },
     "execution_count": 17,
     "metadata": {},
     "output_type": "execute_result"
    }
   ],
   "source": [
    "#count how many time the string is use on the whole dataset \n",
    "password_occurrences = df['text_password'].value_counts()\n",
    "df['password_occurrence'] = df['text_password'].map(password_occurrences)\n",
    "df.head()"
   ]
  },
  {
   "cell_type": "code",
   "execution_count": 18,
   "id": "02a63cdb",
   "metadata": {
    "execution": {
     "iopub.execute_input": "2023-08-29T11:15:56.748790Z",
     "iopub.status.busy": "2023-08-29T11:15:56.748382Z",
     "iopub.status.idle": "2023-08-29T11:15:58.996655Z",
     "shell.execute_reply": "2023-08-29T11:15:58.995320Z"
    },
    "papermill": {
     "duration": 2.26935,
     "end_time": "2023-08-29T11:15:58.999797",
     "exception": false,
     "start_time": "2023-08-29T11:15:56.730447",
     "status": "completed"
    },
    "tags": []
   },
   "outputs": [
    {
     "name": "stderr",
     "output_type": "stream",
     "text": [
      "/opt/conda/lib/python3.10/site-packages/scipy/__init__.py:146: UserWarning: A NumPy version >=1.16.5 and <1.23.0 is required for this version of SciPy (detected version 1.23.5\n",
      "  warnings.warn(f\"A NumPy version >={np_minversion} and <{np_maxversion}\"\n"
     ]
    }
   ],
   "source": [
    "import nltk\n",
    "from nltk.corpus import words\n",
    "\n",
    "# Create a set of English words from NLTK corpus\n",
    "english_words = set(words.words())  \n",
    "\n",
    "def contains_existing_word(password):\n",
    "    # Extract words from the password in lowercase.\n",
    "    words_in_password = re.findall(r'\\w+', password.lower())  \n",
    "    for word in words_in_password:\n",
    "        #Check if the word is an English word or title case \n",
    "        if word in english_words or word.istitle():  \n",
    "            return True  \n",
    "    return False  \n"
   ]
  },
  {
   "cell_type": "code",
   "execution_count": 19,
   "id": "8d45c2aa",
   "metadata": {
    "execution": {
     "iopub.execute_input": "2023-08-29T11:15:59.035456Z",
     "iopub.status.busy": "2023-08-29T11:15:59.035041Z",
     "iopub.status.idle": "2023-08-29T11:16:01.782039Z",
     "shell.execute_reply": "2023-08-29T11:16:01.780706Z"
    },
    "papermill": {
     "duration": 2.768157,
     "end_time": "2023-08-29T11:16:01.784878",
     "exception": false,
     "start_time": "2023-08-29T11:15:59.016721",
     "status": "completed"
    },
    "tags": []
   },
   "outputs": [],
   "source": [
    "#use contains_existing_word function on our dataset\n",
    "df['contains_existing_word'] = df['password'].apply(contains_existing_word)"
   ]
  },
  {
   "cell_type": "code",
   "execution_count": 20,
   "id": "2de01e8f",
   "metadata": {
    "execution": {
     "iopub.execute_input": "2023-08-29T11:16:01.819549Z",
     "iopub.status.busy": "2023-08-29T11:16:01.819171Z",
     "iopub.status.idle": "2023-08-29T11:16:01.833600Z",
     "shell.execute_reply": "2023-08-29T11:16:01.832487Z"
    },
    "papermill": {
     "duration": 0.034435,
     "end_time": "2023-08-29T11:16:01.836161",
     "exception": false,
     "start_time": "2023-08-29T11:16:01.801726",
     "status": "completed"
    },
    "tags": []
   },
   "outputs": [
    {
     "data": {
      "text/html": [
       "<div>\n",
       "<style scoped>\n",
       "    .dataframe tbody tr th:only-of-type {\n",
       "        vertical-align: middle;\n",
       "    }\n",
       "\n",
       "    .dataframe tbody tr th {\n",
       "        vertical-align: top;\n",
       "    }\n",
       "\n",
       "    .dataframe thead th {\n",
       "        text-align: right;\n",
       "    }\n",
       "</style>\n",
       "<table border=\"1\" class=\"dataframe\">\n",
       "  <thead>\n",
       "    <tr style=\"text-align: right;\">\n",
       "      <th></th>\n",
       "      <th>rank</th>\n",
       "      <th>password</th>\n",
       "      <th>size</th>\n",
       "      <th>contains_uppercase</th>\n",
       "      <th>contains_specialcharacter</th>\n",
       "      <th>contains_number</th>\n",
       "      <th>text_password</th>\n",
       "      <th>password_occurrence</th>\n",
       "      <th>contains_existing_word</th>\n",
       "    </tr>\n",
       "  </thead>\n",
       "  <tbody>\n",
       "    <tr>\n",
       "      <th>0</th>\n",
       "      <td>1</td>\n",
       "      <td>123456</td>\n",
       "      <td>6</td>\n",
       "      <td>0</td>\n",
       "      <td>0</td>\n",
       "      <td>1</td>\n",
       "      <td></td>\n",
       "      <td>165520</td>\n",
       "      <td>False</td>\n",
       "    </tr>\n",
       "    <tr>\n",
       "      <th>1</th>\n",
       "      <td>2</td>\n",
       "      <td>password</td>\n",
       "      <td>8</td>\n",
       "      <td>0</td>\n",
       "      <td>0</td>\n",
       "      <td>0</td>\n",
       "      <td>password</td>\n",
       "      <td>150</td>\n",
       "      <td>True</td>\n",
       "    </tr>\n",
       "    <tr>\n",
       "      <th>2</th>\n",
       "      <td>3</td>\n",
       "      <td>12345678</td>\n",
       "      <td>8</td>\n",
       "      <td>0</td>\n",
       "      <td>0</td>\n",
       "      <td>1</td>\n",
       "      <td></td>\n",
       "      <td>165520</td>\n",
       "      <td>False</td>\n",
       "    </tr>\n",
       "    <tr>\n",
       "      <th>3</th>\n",
       "      <td>4</td>\n",
       "      <td>qwerty</td>\n",
       "      <td>6</td>\n",
       "      <td>0</td>\n",
       "      <td>0</td>\n",
       "      <td>0</td>\n",
       "      <td>qwerty</td>\n",
       "      <td>308</td>\n",
       "      <td>False</td>\n",
       "    </tr>\n",
       "    <tr>\n",
       "      <th>4</th>\n",
       "      <td>5</td>\n",
       "      <td>123456789</td>\n",
       "      <td>9</td>\n",
       "      <td>0</td>\n",
       "      <td>0</td>\n",
       "      <td>1</td>\n",
       "      <td></td>\n",
       "      <td>165520</td>\n",
       "      <td>False</td>\n",
       "    </tr>\n",
       "  </tbody>\n",
       "</table>\n",
       "</div>"
      ],
      "text/plain": [
       "  rank   password  size  contains_uppercase  contains_specialcharacter  \\\n",
       "0    1     123456     6                   0                          0   \n",
       "1    2   password     8                   0                          0   \n",
       "2    3   12345678     8                   0                          0   \n",
       "3    4     qwerty     6                   0                          0   \n",
       "4    5  123456789     9                   0                          0   \n",
       "\n",
       "   contains_number text_password  password_occurrence  contains_existing_word  \n",
       "0                1                             165520                   False  \n",
       "1                0      password                  150                    True  \n",
       "2                1                             165520                   False  \n",
       "3                0        qwerty                  308                   False  \n",
       "4                1                             165520                   False  "
      ]
     },
     "execution_count": 20,
     "metadata": {},
     "output_type": "execute_result"
    }
   ],
   "source": [
    "df.head()"
   ]
  },
  {
   "cell_type": "code",
   "execution_count": 21,
   "id": "05445f17",
   "metadata": {
    "execution": {
     "iopub.execute_input": "2023-08-29T11:16:01.870485Z",
     "iopub.status.busy": "2023-08-29T11:16:01.870100Z",
     "iopub.status.idle": "2023-08-29T11:16:07.426260Z",
     "shell.execute_reply": "2023-08-29T11:16:07.424845Z"
    },
    "papermill": {
     "duration": 5.577198,
     "end_time": "2023-08-29T11:16:07.429626",
     "exception": false,
     "start_time": "2023-08-29T11:16:01.852428",
     "status": "completed"
    },
    "tags": []
   },
   "outputs": [],
   "source": [
    "def has_consecutive_characters(password, length=3):\n",
    "    #Check if a given password contains consecutive characters of a certain length\n",
    "    for i in range(len(password) - length + 1):\n",
    "        is_consecutive = True\n",
    "        for j in range(length - 1):\n",
    "            # Compare the Unicode values of characters to check for consecutive sequence\n",
    "            if ord(password[i + j + 1]) != ord(password[i + j]) + 1:\n",
    "                is_consecutive = False\n",
    "                break\n",
    "        if is_consecutive:\n",
    "            return True\n",
    "    return False\n",
    "\n",
    "\n",
    "df['has_consecutive'] = df['password'].apply(lambda x: has_consecutive_characters(x))\n"
   ]
  },
  {
   "cell_type": "code",
   "execution_count": 22,
   "id": "1bba8e5e",
   "metadata": {
    "execution": {
     "iopub.execute_input": "2023-08-29T11:16:07.466470Z",
     "iopub.status.busy": "2023-08-29T11:16:07.465992Z",
     "iopub.status.idle": "2023-08-29T11:16:07.483646Z",
     "shell.execute_reply": "2023-08-29T11:16:07.482271Z"
    },
    "papermill": {
     "duration": 0.039474,
     "end_time": "2023-08-29T11:16:07.486462",
     "exception": false,
     "start_time": "2023-08-29T11:16:07.446988",
     "status": "completed"
    },
    "tags": []
   },
   "outputs": [
    {
     "data": {
      "text/html": [
       "<div>\n",
       "<style scoped>\n",
       "    .dataframe tbody tr th:only-of-type {\n",
       "        vertical-align: middle;\n",
       "    }\n",
       "\n",
       "    .dataframe tbody tr th {\n",
       "        vertical-align: top;\n",
       "    }\n",
       "\n",
       "    .dataframe thead th {\n",
       "        text-align: right;\n",
       "    }\n",
       "</style>\n",
       "<table border=\"1\" class=\"dataframe\">\n",
       "  <thead>\n",
       "    <tr style=\"text-align: right;\">\n",
       "      <th></th>\n",
       "      <th>rank</th>\n",
       "      <th>password</th>\n",
       "      <th>size</th>\n",
       "      <th>contains_uppercase</th>\n",
       "      <th>contains_specialcharacter</th>\n",
       "      <th>contains_number</th>\n",
       "      <th>text_password</th>\n",
       "      <th>password_occurrence</th>\n",
       "      <th>contains_existing_word</th>\n",
       "      <th>has_consecutive</th>\n",
       "    </tr>\n",
       "  </thead>\n",
       "  <tbody>\n",
       "    <tr>\n",
       "      <th>0</th>\n",
       "      <td>1</td>\n",
       "      <td>123456</td>\n",
       "      <td>6</td>\n",
       "      <td>0</td>\n",
       "      <td>0</td>\n",
       "      <td>1</td>\n",
       "      <td></td>\n",
       "      <td>165520</td>\n",
       "      <td>False</td>\n",
       "      <td>True</td>\n",
       "    </tr>\n",
       "    <tr>\n",
       "      <th>1</th>\n",
       "      <td>2</td>\n",
       "      <td>password</td>\n",
       "      <td>8</td>\n",
       "      <td>0</td>\n",
       "      <td>0</td>\n",
       "      <td>0</td>\n",
       "      <td>password</td>\n",
       "      <td>150</td>\n",
       "      <td>True</td>\n",
       "      <td>False</td>\n",
       "    </tr>\n",
       "    <tr>\n",
       "      <th>2</th>\n",
       "      <td>3</td>\n",
       "      <td>12345678</td>\n",
       "      <td>8</td>\n",
       "      <td>0</td>\n",
       "      <td>0</td>\n",
       "      <td>1</td>\n",
       "      <td></td>\n",
       "      <td>165520</td>\n",
       "      <td>False</td>\n",
       "      <td>True</td>\n",
       "    </tr>\n",
       "    <tr>\n",
       "      <th>3</th>\n",
       "      <td>4</td>\n",
       "      <td>qwerty</td>\n",
       "      <td>6</td>\n",
       "      <td>0</td>\n",
       "      <td>0</td>\n",
       "      <td>0</td>\n",
       "      <td>qwerty</td>\n",
       "      <td>308</td>\n",
       "      <td>False</td>\n",
       "      <td>False</td>\n",
       "    </tr>\n",
       "    <tr>\n",
       "      <th>4</th>\n",
       "      <td>5</td>\n",
       "      <td>123456789</td>\n",
       "      <td>9</td>\n",
       "      <td>0</td>\n",
       "      <td>0</td>\n",
       "      <td>1</td>\n",
       "      <td></td>\n",
       "      <td>165520</td>\n",
       "      <td>False</td>\n",
       "      <td>True</td>\n",
       "    </tr>\n",
       "  </tbody>\n",
       "</table>\n",
       "</div>"
      ],
      "text/plain": [
       "  rank   password  size  contains_uppercase  contains_specialcharacter  \\\n",
       "0    1     123456     6                   0                          0   \n",
       "1    2   password     8                   0                          0   \n",
       "2    3   12345678     8                   0                          0   \n",
       "3    4     qwerty     6                   0                          0   \n",
       "4    5  123456789     9                   0                          0   \n",
       "\n",
       "   contains_number text_password  password_occurrence  contains_existing_word  \\\n",
       "0                1                             165520                   False   \n",
       "1                0      password                  150                    True   \n",
       "2                1                             165520                   False   \n",
       "3                0        qwerty                  308                   False   \n",
       "4                1                             165520                   False   \n",
       "\n",
       "   has_consecutive  \n",
       "0             True  \n",
       "1            False  \n",
       "2             True  \n",
       "3            False  \n",
       "4             True  "
      ]
     },
     "execution_count": 22,
     "metadata": {},
     "output_type": "execute_result"
    }
   ],
   "source": [
    "df.head()"
   ]
  },
  {
   "cell_type": "code",
   "execution_count": 23,
   "id": "6c7e25cc",
   "metadata": {
    "execution": {
     "iopub.execute_input": "2023-08-29T11:16:07.524361Z",
     "iopub.status.busy": "2023-08-29T11:16:07.523907Z",
     "iopub.status.idle": "2023-08-29T11:16:07.538630Z",
     "shell.execute_reply": "2023-08-29T11:16:07.537267Z"
    },
    "papermill": {
     "duration": 0.038042,
     "end_time": "2023-08-29T11:16:07.541991",
     "exception": false,
     "start_time": "2023-08-29T11:16:07.503949",
     "status": "completed"
    },
    "tags": []
   },
   "outputs": [],
   "source": [
    "# Calculate the maximum occurrence count in the 'password_occurrence' column\n",
    "max_occurrence = df['password_occurrence'].max()\n",
    "\n",
    "# Calculate and assign normalized occurrence values to the 'normalized_occurrence' column\n",
    "df['normalized_occurrence'] = df['password_occurrence'] / max_occurrence"
   ]
  },
  {
   "cell_type": "code",
   "execution_count": 24,
   "id": "f9ff61d1",
   "metadata": {
    "execution": {
     "iopub.execute_input": "2023-08-29T11:16:07.579277Z",
     "iopub.status.busy": "2023-08-29T11:16:07.578823Z",
     "iopub.status.idle": "2023-08-29T11:16:08.665306Z",
     "shell.execute_reply": "2023-08-29T11:16:08.664003Z"
    },
    "papermill": {
     "duration": 1.108661,
     "end_time": "2023-08-29T11:16:08.668387",
     "exception": false,
     "start_time": "2023-08-29T11:16:07.559726",
     "status": "completed"
    },
    "tags": []
   },
   "outputs": [],
   "source": [
    "def has_keyboard_sequence(password):\n",
    "    #Check if password contain specific keyboard sequence, often use in bad password\n",
    "    keyboard_sequences = ['qwerty', 'asdfgh', 'zxcvbn','12345','123456', '1234567', '12345678', '1234567890']\n",
    "    for sequence in keyboard_sequences:\n",
    "        if sequence in password:\n",
    "            return True\n",
    "    return False\n",
    "\n",
    "df['has_keyboard_sequence'] = df['password'].apply(has_keyboard_sequence)"
   ]
  },
  {
   "cell_type": "code",
   "execution_count": 25,
   "id": "c5a9f365",
   "metadata": {
    "execution": {
     "iopub.execute_input": "2023-08-29T11:16:08.704451Z",
     "iopub.status.busy": "2023-08-29T11:16:08.704044Z",
     "iopub.status.idle": "2023-08-29T11:16:09.999727Z",
     "shell.execute_reply": "2023-08-29T11:16:09.998628Z"
    },
    "papermill": {
     "duration": 1.31694,
     "end_time": "2023-08-29T11:16:10.002579",
     "exception": false,
     "start_time": "2023-08-29T11:16:08.685639",
     "status": "completed"
    },
    "tags": []
   },
   "outputs": [],
   "source": [
    "#Count unique character in password\n",
    "count_unique_characters = lambda password: len(set(password))\n",
    "df['unique_characters_count'] = df['password'].apply(count_unique_characters)"
   ]
  },
  {
   "cell_type": "code",
   "execution_count": 26,
   "id": "140ddc40",
   "metadata": {
    "execution": {
     "iopub.execute_input": "2023-08-29T11:16:10.037864Z",
     "iopub.status.busy": "2023-08-29T11:16:10.037457Z",
     "iopub.status.idle": "2023-08-29T11:16:10.056071Z",
     "shell.execute_reply": "2023-08-29T11:16:10.054788Z"
    },
    "papermill": {
     "duration": 0.03903,
     "end_time": "2023-08-29T11:16:10.058443",
     "exception": false,
     "start_time": "2023-08-29T11:16:10.019413",
     "status": "completed"
    },
    "tags": []
   },
   "outputs": [
    {
     "data": {
      "text/html": [
       "<div>\n",
       "<style scoped>\n",
       "    .dataframe tbody tr th:only-of-type {\n",
       "        vertical-align: middle;\n",
       "    }\n",
       "\n",
       "    .dataframe tbody tr th {\n",
       "        vertical-align: top;\n",
       "    }\n",
       "\n",
       "    .dataframe thead th {\n",
       "        text-align: right;\n",
       "    }\n",
       "</style>\n",
       "<table border=\"1\" class=\"dataframe\">\n",
       "  <thead>\n",
       "    <tr style=\"text-align: right;\">\n",
       "      <th></th>\n",
       "      <th>rank</th>\n",
       "      <th>password</th>\n",
       "      <th>size</th>\n",
       "      <th>contains_uppercase</th>\n",
       "      <th>contains_specialcharacter</th>\n",
       "      <th>contains_number</th>\n",
       "      <th>text_password</th>\n",
       "      <th>password_occurrence</th>\n",
       "      <th>contains_existing_word</th>\n",
       "      <th>has_consecutive</th>\n",
       "      <th>normalized_occurrence</th>\n",
       "      <th>has_keyboard_sequence</th>\n",
       "      <th>unique_characters_count</th>\n",
       "    </tr>\n",
       "  </thead>\n",
       "  <tbody>\n",
       "    <tr>\n",
       "      <th>0</th>\n",
       "      <td>1</td>\n",
       "      <td>123456</td>\n",
       "      <td>6</td>\n",
       "      <td>0</td>\n",
       "      <td>0</td>\n",
       "      <td>1</td>\n",
       "      <td></td>\n",
       "      <td>165520</td>\n",
       "      <td>False</td>\n",
       "      <td>True</td>\n",
       "      <td>1.000000</td>\n",
       "      <td>True</td>\n",
       "      <td>6</td>\n",
       "    </tr>\n",
       "    <tr>\n",
       "      <th>1</th>\n",
       "      <td>2</td>\n",
       "      <td>password</td>\n",
       "      <td>8</td>\n",
       "      <td>0</td>\n",
       "      <td>0</td>\n",
       "      <td>0</td>\n",
       "      <td>password</td>\n",
       "      <td>150</td>\n",
       "      <td>True</td>\n",
       "      <td>False</td>\n",
       "      <td>0.000906</td>\n",
       "      <td>False</td>\n",
       "      <td>7</td>\n",
       "    </tr>\n",
       "    <tr>\n",
       "      <th>2</th>\n",
       "      <td>3</td>\n",
       "      <td>12345678</td>\n",
       "      <td>8</td>\n",
       "      <td>0</td>\n",
       "      <td>0</td>\n",
       "      <td>1</td>\n",
       "      <td></td>\n",
       "      <td>165520</td>\n",
       "      <td>False</td>\n",
       "      <td>True</td>\n",
       "      <td>1.000000</td>\n",
       "      <td>True</td>\n",
       "      <td>8</td>\n",
       "    </tr>\n",
       "    <tr>\n",
       "      <th>3</th>\n",
       "      <td>4</td>\n",
       "      <td>qwerty</td>\n",
       "      <td>6</td>\n",
       "      <td>0</td>\n",
       "      <td>0</td>\n",
       "      <td>0</td>\n",
       "      <td>qwerty</td>\n",
       "      <td>308</td>\n",
       "      <td>False</td>\n",
       "      <td>False</td>\n",
       "      <td>0.001861</td>\n",
       "      <td>True</td>\n",
       "      <td>6</td>\n",
       "    </tr>\n",
       "    <tr>\n",
       "      <th>4</th>\n",
       "      <td>5</td>\n",
       "      <td>123456789</td>\n",
       "      <td>9</td>\n",
       "      <td>0</td>\n",
       "      <td>0</td>\n",
       "      <td>1</td>\n",
       "      <td></td>\n",
       "      <td>165520</td>\n",
       "      <td>False</td>\n",
       "      <td>True</td>\n",
       "      <td>1.000000</td>\n",
       "      <td>True</td>\n",
       "      <td>9</td>\n",
       "    </tr>\n",
       "  </tbody>\n",
       "</table>\n",
       "</div>"
      ],
      "text/plain": [
       "  rank   password  size  contains_uppercase  contains_specialcharacter  \\\n",
       "0    1     123456     6                   0                          0   \n",
       "1    2   password     8                   0                          0   \n",
       "2    3   12345678     8                   0                          0   \n",
       "3    4     qwerty     6                   0                          0   \n",
       "4    5  123456789     9                   0                          0   \n",
       "\n",
       "   contains_number text_password  password_occurrence  contains_existing_word  \\\n",
       "0                1                             165520                   False   \n",
       "1                0      password                  150                    True   \n",
       "2                1                             165520                   False   \n",
       "3                0        qwerty                  308                   False   \n",
       "4                1                             165520                   False   \n",
       "\n",
       "   has_consecutive  normalized_occurrence  has_keyboard_sequence  \\\n",
       "0             True               1.000000                   True   \n",
       "1            False               0.000906                  False   \n",
       "2             True               1.000000                   True   \n",
       "3            False               0.001861                   True   \n",
       "4             True               1.000000                   True   \n",
       "\n",
       "   unique_characters_count  \n",
       "0                        6  \n",
       "1                        7  \n",
       "2                        8  \n",
       "3                        6  \n",
       "4                        9  "
      ]
     },
     "execution_count": 26,
     "metadata": {},
     "output_type": "execute_result"
    }
   ],
   "source": [
    "df.head()"
   ]
  },
  {
   "cell_type": "code",
   "execution_count": 27,
   "id": "59b22f62",
   "metadata": {
    "execution": {
     "iopub.execute_input": "2023-08-29T11:16:10.094428Z",
     "iopub.status.busy": "2023-08-29T11:16:10.094013Z",
     "iopub.status.idle": "2023-08-29T11:16:10.370162Z",
     "shell.execute_reply": "2023-08-29T11:16:10.368997Z"
    },
    "papermill": {
     "duration": 0.297697,
     "end_time": "2023-08-29T11:16:10.373191",
     "exception": false,
     "start_time": "2023-08-29T11:16:10.075494",
     "status": "completed"
    },
    "tags": []
   },
   "outputs": [],
   "source": [
    "# List of boolean columns to be converted to integer values for uniformity in DataFrame and visualization\n",
    "boolean_columns = ['contains_uppercase', 'contains_specialcharacter', 'contains_number', 'contains_existing_word', 'has_consecutive', 'has_keyboard_sequence']\n",
    "\n",
    "# Convert selected boolean columns to integer values for consistency in DataFrame and visualization\n",
    "df[boolean_columns] = df[boolean_columns].astype(int)\n"
   ]
  },
  {
   "cell_type": "code",
   "execution_count": 28,
   "id": "2ea975e6",
   "metadata": {
    "execution": {
     "iopub.execute_input": "2023-08-29T11:16:10.410278Z",
     "iopub.status.busy": "2023-08-29T11:16:10.409838Z",
     "iopub.status.idle": "2023-08-29T11:16:18.668055Z",
     "shell.execute_reply": "2023-08-29T11:16:18.666501Z"
    },
    "papermill": {
     "duration": 8.28055,
     "end_time": "2023-08-29T11:16:18.671341",
     "exception": false,
     "start_time": "2023-08-29T11:16:10.390791",
     "status": "completed"
    },
    "tags": []
   },
   "outputs": [],
   "source": [
    "#Save to CSV\n",
    "df.to_csv('/kaggle/working/data.csv', index=False)  "
   ]
  },
  {
   "cell_type": "code",
   "execution_count": 29,
   "id": "6e871d34",
   "metadata": {
    "execution": {
     "iopub.execute_input": "2023-08-29T11:16:18.709960Z",
     "iopub.status.busy": "2023-08-29T11:16:18.709443Z",
     "iopub.status.idle": "2023-08-29T11:18:07.409520Z",
     "shell.execute_reply": "2023-08-29T11:18:07.408156Z"
    },
    "papermill": {
     "duration": 108.722402,
     "end_time": "2023-08-29T11:18:07.412712",
     "exception": false,
     "start_time": "2023-08-29T11:16:18.690310",
     "status": "completed"
    },
    "tags": []
   },
   "outputs": [],
   "source": [
    "def calculate_score(row):\n",
    "    \n",
    "    #Calculate a password strength score based on the given weights for different password features\n",
    "\n",
    "    weights = {\n",
    "        'size': 0.05,\n",
    "        'contains_uppercase': 2,\n",
    "        'contains_specialcharacter': 5,\n",
    "        'contains_number': 0.1,\n",
    "        'normalized_occurrence': -1,\n",
    "        'contains_existing_word': -10,\n",
    "        'has_consecutive': -0.2,\n",
    "        'has_keyboard_sequence': -3,\n",
    "        'unique_characters_count': 1\n",
    "    }\n",
    "    \n",
    "    score = 0\n",
    "    for feature, weight in weights.items():\n",
    "        # Check if the feature value is a boolean and calculate score accordingly\n",
    "        if isinstance(row[feature], bool):\n",
    "            score += row[feature] * weight\n",
    "        else:\n",
    "            # For non-boolean features, calculate score by multiplying feature value with weight\n",
    "            score += row[feature] * weight\n",
    "    return score\n",
    "\n",
    "# Apply the calculate_score function to each row of the DataFrame and store the results in the 'score' column\n",
    "df['score'] = df.apply(calculate_score, axis=1)\n"
   ]
  },
  {
   "cell_type": "code",
   "execution_count": 30,
   "id": "94c4bd01",
   "metadata": {
    "execution": {
     "iopub.execute_input": "2023-08-29T11:18:07.450251Z",
     "iopub.status.busy": "2023-08-29T11:18:07.449722Z",
     "iopub.status.idle": "2023-08-29T11:18:07.469518Z",
     "shell.execute_reply": "2023-08-29T11:18:07.468076Z"
    },
    "papermill": {
     "duration": 0.041602,
     "end_time": "2023-08-29T11:18:07.472173",
     "exception": false,
     "start_time": "2023-08-29T11:18:07.430571",
     "status": "completed"
    },
    "tags": []
   },
   "outputs": [
    {
     "data": {
      "text/html": [
       "<div>\n",
       "<style scoped>\n",
       "    .dataframe tbody tr th:only-of-type {\n",
       "        vertical-align: middle;\n",
       "    }\n",
       "\n",
       "    .dataframe tbody tr th {\n",
       "        vertical-align: top;\n",
       "    }\n",
       "\n",
       "    .dataframe thead th {\n",
       "        text-align: right;\n",
       "    }\n",
       "</style>\n",
       "<table border=\"1\" class=\"dataframe\">\n",
       "  <thead>\n",
       "    <tr style=\"text-align: right;\">\n",
       "      <th></th>\n",
       "      <th>rank</th>\n",
       "      <th>password</th>\n",
       "      <th>size</th>\n",
       "      <th>contains_uppercase</th>\n",
       "      <th>contains_specialcharacter</th>\n",
       "      <th>contains_number</th>\n",
       "      <th>text_password</th>\n",
       "      <th>password_occurrence</th>\n",
       "      <th>contains_existing_word</th>\n",
       "      <th>has_consecutive</th>\n",
       "      <th>normalized_occurrence</th>\n",
       "      <th>has_keyboard_sequence</th>\n",
       "      <th>unique_characters_count</th>\n",
       "      <th>score</th>\n",
       "    </tr>\n",
       "  </thead>\n",
       "  <tbody>\n",
       "    <tr>\n",
       "      <th>0</th>\n",
       "      <td>1</td>\n",
       "      <td>123456</td>\n",
       "      <td>6</td>\n",
       "      <td>0</td>\n",
       "      <td>0</td>\n",
       "      <td>1</td>\n",
       "      <td></td>\n",
       "      <td>165520</td>\n",
       "      <td>0</td>\n",
       "      <td>1</td>\n",
       "      <td>1.000000</td>\n",
       "      <td>1</td>\n",
       "      <td>6</td>\n",
       "      <td>2.200000</td>\n",
       "    </tr>\n",
       "    <tr>\n",
       "      <th>1</th>\n",
       "      <td>2</td>\n",
       "      <td>password</td>\n",
       "      <td>8</td>\n",
       "      <td>0</td>\n",
       "      <td>0</td>\n",
       "      <td>0</td>\n",
       "      <td>password</td>\n",
       "      <td>150</td>\n",
       "      <td>1</td>\n",
       "      <td>0</td>\n",
       "      <td>0.000906</td>\n",
       "      <td>0</td>\n",
       "      <td>7</td>\n",
       "      <td>-2.600906</td>\n",
       "    </tr>\n",
       "    <tr>\n",
       "      <th>2</th>\n",
       "      <td>3</td>\n",
       "      <td>12345678</td>\n",
       "      <td>8</td>\n",
       "      <td>0</td>\n",
       "      <td>0</td>\n",
       "      <td>1</td>\n",
       "      <td></td>\n",
       "      <td>165520</td>\n",
       "      <td>0</td>\n",
       "      <td>1</td>\n",
       "      <td>1.000000</td>\n",
       "      <td>1</td>\n",
       "      <td>8</td>\n",
       "      <td>4.300000</td>\n",
       "    </tr>\n",
       "    <tr>\n",
       "      <th>3</th>\n",
       "      <td>4</td>\n",
       "      <td>qwerty</td>\n",
       "      <td>6</td>\n",
       "      <td>0</td>\n",
       "      <td>0</td>\n",
       "      <td>0</td>\n",
       "      <td>qwerty</td>\n",
       "      <td>308</td>\n",
       "      <td>0</td>\n",
       "      <td>0</td>\n",
       "      <td>0.001861</td>\n",
       "      <td>1</td>\n",
       "      <td>6</td>\n",
       "      <td>3.298139</td>\n",
       "    </tr>\n",
       "    <tr>\n",
       "      <th>4</th>\n",
       "      <td>5</td>\n",
       "      <td>123456789</td>\n",
       "      <td>9</td>\n",
       "      <td>0</td>\n",
       "      <td>0</td>\n",
       "      <td>1</td>\n",
       "      <td></td>\n",
       "      <td>165520</td>\n",
       "      <td>0</td>\n",
       "      <td>1</td>\n",
       "      <td>1.000000</td>\n",
       "      <td>1</td>\n",
       "      <td>9</td>\n",
       "      <td>5.350000</td>\n",
       "    </tr>\n",
       "  </tbody>\n",
       "</table>\n",
       "</div>"
      ],
      "text/plain": [
       "  rank   password  size  contains_uppercase  contains_specialcharacter  \\\n",
       "0    1     123456     6                   0                          0   \n",
       "1    2   password     8                   0                          0   \n",
       "2    3   12345678     8                   0                          0   \n",
       "3    4     qwerty     6                   0                          0   \n",
       "4    5  123456789     9                   0                          0   \n",
       "\n",
       "   contains_number text_password  password_occurrence  contains_existing_word  \\\n",
       "0                1                             165520                       0   \n",
       "1                0      password                  150                       1   \n",
       "2                1                             165520                       0   \n",
       "3                0        qwerty                  308                       0   \n",
       "4                1                             165520                       0   \n",
       "\n",
       "   has_consecutive  normalized_occurrence  has_keyboard_sequence  \\\n",
       "0                1               1.000000                      1   \n",
       "1                0               0.000906                      0   \n",
       "2                1               1.000000                      1   \n",
       "3                0               0.001861                      1   \n",
       "4                1               1.000000                      1   \n",
       "\n",
       "   unique_characters_count     score  \n",
       "0                        6  2.200000  \n",
       "1                        7 -2.600906  \n",
       "2                        8  4.300000  \n",
       "3                        6  3.298139  \n",
       "4                        9  5.350000  "
      ]
     },
     "execution_count": 30,
     "metadata": {},
     "output_type": "execute_result"
    }
   ],
   "source": [
    "df.head()"
   ]
  },
  {
   "cell_type": "code",
   "execution_count": 31,
   "id": "81961f2e",
   "metadata": {
    "execution": {
     "iopub.execute_input": "2023-08-29T11:18:07.509839Z",
     "iopub.status.busy": "2023-08-29T11:18:07.509427Z",
     "iopub.status.idle": "2023-08-29T11:18:07.532883Z",
     "shell.execute_reply": "2023-08-29T11:18:07.531216Z"
    },
    "papermill": {
     "duration": 0.045813,
     "end_time": "2023-08-29T11:18:07.535932",
     "exception": false,
     "start_time": "2023-08-29T11:18:07.490119",
     "status": "completed"
    },
    "tags": []
   },
   "outputs": [
    {
     "name": "stdout",
     "output_type": "stream",
     "text": [
      "rank                                                  829180\n",
      "password                     you_have_been_hacked_gWSxH1FZfr\n",
      "size                                                      31\n",
      "contains_uppercase                                         1\n",
      "contains_specialcharacter                                  1\n",
      "contains_number                                            1\n",
      "text_password                     youhavebeenhackedgWSxHFZfr\n",
      "password_occurrence                                        1\n",
      "contains_existing_word                                     0\n",
      "has_consecutive                                            0\n",
      "normalized_occurrence                               0.000006\n",
      "has_keyboard_sequence                                      0\n",
      "unique_characters_count                                   23\n",
      "score                                              31.649994\n",
      "Name: 829179, dtype: object\n"
     ]
    }
   ],
   "source": [
    "#Check password with the biggest score\n",
    "max_score_index = df['score'].idxmax()\n",
    "row_with_max_score = df.loc[max_score_index]\n",
    "print(row_with_max_score)"
   ]
  },
  {
   "cell_type": "code",
   "execution_count": 32,
   "id": "a4617d7c",
   "metadata": {
    "execution": {
     "iopub.execute_input": "2023-08-29T11:18:07.574117Z",
     "iopub.status.busy": "2023-08-29T11:18:07.573684Z",
     "iopub.status.idle": "2023-08-29T11:18:07.584785Z",
     "shell.execute_reply": "2023-08-29T11:18:07.583122Z"
    },
    "papermill": {
     "duration": 0.033376,
     "end_time": "2023-08-29T11:18:07.587517",
     "exception": false,
     "start_time": "2023-08-29T11:18:07.554141",
     "status": "completed"
    },
    "tags": []
   },
   "outputs": [
    {
     "name": "stdout",
     "output_type": "stream",
     "text": [
      "rank                            24694\n",
      "password                          bob\n",
      "size                                3\n",
      "contains_uppercase                  0\n",
      "contains_specialcharacter           0\n",
      "contains_number                     0\n",
      "text_password                     bob\n",
      "password_occurrence               142\n",
      "contains_existing_word              1\n",
      "has_consecutive                     0\n",
      "normalized_occurrence        0.000858\n",
      "has_keyboard_sequence               0\n",
      "unique_characters_count             2\n",
      "score                       -7.850858\n",
      "Name: 24693, dtype: object\n"
     ]
    }
   ],
   "source": [
    "#same with the lowest score \n",
    "max_score_index = df['score'].idxmin()\n",
    "row_with_max_score = df.loc[max_score_index]\n",
    "print(row_with_max_score)"
   ]
  },
  {
   "cell_type": "code",
   "execution_count": 33,
   "id": "c98668a0",
   "metadata": {
    "execution": {
     "iopub.execute_input": "2023-08-29T11:18:07.625293Z",
     "iopub.status.busy": "2023-08-29T11:18:07.624892Z",
     "iopub.status.idle": "2023-08-29T11:18:07.634710Z",
     "shell.execute_reply": "2023-08-29T11:18:07.633276Z"
    },
    "papermill": {
     "duration": 0.031372,
     "end_time": "2023-08-29T11:18:07.637040",
     "exception": false,
     "start_time": "2023-08-29T11:18:07.605668",
     "status": "completed"
    },
    "tags": []
   },
   "outputs": [
    {
     "data": {
      "text/plain": [
       "rank                            999998\n",
       "password                      GgnePm7w\n",
       "size                                 8\n",
       "contains_uppercase                   1\n",
       "contains_specialcharacter            0\n",
       "contains_number                      1\n",
       "text_password                  GgnePmw\n",
       "password_occurrence                  1\n",
       "contains_existing_word               0\n",
       "has_consecutive                      0\n",
       "normalized_occurrence         0.000006\n",
       "has_keyboard_sequence                0\n",
       "unique_characters_count              8\n",
       "score                        10.499994\n",
       "Name: 999997, dtype: object"
      ]
     },
     "execution_count": 33,
     "metadata": {},
     "output_type": "execute_result"
    }
   ],
   "source": [
    "#Check the medium-strong password we insert in the beggining  \n",
    "df.iloc[999997]"
   ]
  },
  {
   "cell_type": "code",
   "execution_count": 34,
   "id": "4e32ab85",
   "metadata": {
    "execution": {
     "iopub.execute_input": "2023-08-29T11:18:07.675535Z",
     "iopub.status.busy": "2023-08-29T11:18:07.674599Z",
     "iopub.status.idle": "2023-08-29T11:18:08.519263Z",
     "shell.execute_reply": "2023-08-29T11:18:08.517870Z"
    },
    "papermill": {
     "duration": 0.867706,
     "end_time": "2023-08-29T11:18:08.522511",
     "exception": false,
     "start_time": "2023-08-29T11:18:07.654805",
     "status": "completed"
    },
    "tags": []
   },
   "outputs": [],
   "source": [
    "#So the threshold score will be fixed at 10, we could have created more category based on the score\n",
    "threshold = 10\n",
    "\n",
    "df['classification'] = df['score'].apply(lambda score: 1  if score >= threshold else 0)\n"
   ]
  },
  {
   "cell_type": "code",
   "execution_count": 35,
   "id": "eabc493e",
   "metadata": {
    "execution": {
     "iopub.execute_input": "2023-08-29T11:18:08.561985Z",
     "iopub.status.busy": "2023-08-29T11:18:08.560929Z",
     "iopub.status.idle": "2023-08-29T11:18:08.580543Z",
     "shell.execute_reply": "2023-08-29T11:18:08.579389Z"
    },
    "papermill": {
     "duration": 0.041848,
     "end_time": "2023-08-29T11:18:08.582840",
     "exception": false,
     "start_time": "2023-08-29T11:18:08.540992",
     "status": "completed"
    },
    "tags": []
   },
   "outputs": [
    {
     "data": {
      "text/html": [
       "<div>\n",
       "<style scoped>\n",
       "    .dataframe tbody tr th:only-of-type {\n",
       "        vertical-align: middle;\n",
       "    }\n",
       "\n",
       "    .dataframe tbody tr th {\n",
       "        vertical-align: top;\n",
       "    }\n",
       "\n",
       "    .dataframe thead th {\n",
       "        text-align: right;\n",
       "    }\n",
       "</style>\n",
       "<table border=\"1\" class=\"dataframe\">\n",
       "  <thead>\n",
       "    <tr style=\"text-align: right;\">\n",
       "      <th></th>\n",
       "      <th>rank</th>\n",
       "      <th>password</th>\n",
       "      <th>size</th>\n",
       "      <th>contains_uppercase</th>\n",
       "      <th>contains_specialcharacter</th>\n",
       "      <th>contains_number</th>\n",
       "      <th>text_password</th>\n",
       "      <th>password_occurrence</th>\n",
       "      <th>contains_existing_word</th>\n",
       "      <th>has_consecutive</th>\n",
       "      <th>normalized_occurrence</th>\n",
       "      <th>has_keyboard_sequence</th>\n",
       "      <th>unique_characters_count</th>\n",
       "      <th>score</th>\n",
       "      <th>classification</th>\n",
       "    </tr>\n",
       "  </thead>\n",
       "  <tbody>\n",
       "    <tr>\n",
       "      <th>0</th>\n",
       "      <td>1</td>\n",
       "      <td>123456</td>\n",
       "      <td>6</td>\n",
       "      <td>0</td>\n",
       "      <td>0</td>\n",
       "      <td>1</td>\n",
       "      <td></td>\n",
       "      <td>165520</td>\n",
       "      <td>0</td>\n",
       "      <td>1</td>\n",
       "      <td>1.000000</td>\n",
       "      <td>1</td>\n",
       "      <td>6</td>\n",
       "      <td>2.200000</td>\n",
       "      <td>0</td>\n",
       "    </tr>\n",
       "    <tr>\n",
       "      <th>1</th>\n",
       "      <td>2</td>\n",
       "      <td>password</td>\n",
       "      <td>8</td>\n",
       "      <td>0</td>\n",
       "      <td>0</td>\n",
       "      <td>0</td>\n",
       "      <td>password</td>\n",
       "      <td>150</td>\n",
       "      <td>1</td>\n",
       "      <td>0</td>\n",
       "      <td>0.000906</td>\n",
       "      <td>0</td>\n",
       "      <td>7</td>\n",
       "      <td>-2.600906</td>\n",
       "      <td>0</td>\n",
       "    </tr>\n",
       "    <tr>\n",
       "      <th>2</th>\n",
       "      <td>3</td>\n",
       "      <td>12345678</td>\n",
       "      <td>8</td>\n",
       "      <td>0</td>\n",
       "      <td>0</td>\n",
       "      <td>1</td>\n",
       "      <td></td>\n",
       "      <td>165520</td>\n",
       "      <td>0</td>\n",
       "      <td>1</td>\n",
       "      <td>1.000000</td>\n",
       "      <td>1</td>\n",
       "      <td>8</td>\n",
       "      <td>4.300000</td>\n",
       "      <td>0</td>\n",
       "    </tr>\n",
       "    <tr>\n",
       "      <th>3</th>\n",
       "      <td>4</td>\n",
       "      <td>qwerty</td>\n",
       "      <td>6</td>\n",
       "      <td>0</td>\n",
       "      <td>0</td>\n",
       "      <td>0</td>\n",
       "      <td>qwerty</td>\n",
       "      <td>308</td>\n",
       "      <td>0</td>\n",
       "      <td>0</td>\n",
       "      <td>0.001861</td>\n",
       "      <td>1</td>\n",
       "      <td>6</td>\n",
       "      <td>3.298139</td>\n",
       "      <td>0</td>\n",
       "    </tr>\n",
       "    <tr>\n",
       "      <th>4</th>\n",
       "      <td>5</td>\n",
       "      <td>123456789</td>\n",
       "      <td>9</td>\n",
       "      <td>0</td>\n",
       "      <td>0</td>\n",
       "      <td>1</td>\n",
       "      <td></td>\n",
       "      <td>165520</td>\n",
       "      <td>0</td>\n",
       "      <td>1</td>\n",
       "      <td>1.000000</td>\n",
       "      <td>1</td>\n",
       "      <td>9</td>\n",
       "      <td>5.350000</td>\n",
       "      <td>0</td>\n",
       "    </tr>\n",
       "  </tbody>\n",
       "</table>\n",
       "</div>"
      ],
      "text/plain": [
       "  rank   password  size  contains_uppercase  contains_specialcharacter  \\\n",
       "0    1     123456     6                   0                          0   \n",
       "1    2   password     8                   0                          0   \n",
       "2    3   12345678     8                   0                          0   \n",
       "3    4     qwerty     6                   0                          0   \n",
       "4    5  123456789     9                   0                          0   \n",
       "\n",
       "   contains_number text_password  password_occurrence  contains_existing_word  \\\n",
       "0                1                             165520                       0   \n",
       "1                0      password                  150                       1   \n",
       "2                1                             165520                       0   \n",
       "3                0        qwerty                  308                       0   \n",
       "4                1                             165520                       0   \n",
       "\n",
       "   has_consecutive  normalized_occurrence  has_keyboard_sequence  \\\n",
       "0                1               1.000000                      1   \n",
       "1                0               0.000906                      0   \n",
       "2                1               1.000000                      1   \n",
       "3                0               0.001861                      1   \n",
       "4                1               1.000000                      1   \n",
       "\n",
       "   unique_characters_count     score  classification  \n",
       "0                        6  2.200000               0  \n",
       "1                        7 -2.600906               0  \n",
       "2                        8  4.300000               0  \n",
       "3                        6  3.298139               0  \n",
       "4                        9  5.350000               0  "
      ]
     },
     "execution_count": 35,
     "metadata": {},
     "output_type": "execute_result"
    }
   ],
   "source": [
    "df.head()"
   ]
  },
  {
   "cell_type": "code",
   "execution_count": 36,
   "id": "6bcc08df",
   "metadata": {
    "execution": {
     "iopub.execute_input": "2023-08-29T11:18:08.623363Z",
     "iopub.status.busy": "2023-08-29T11:18:08.622956Z",
     "iopub.status.idle": "2023-08-29T12:45:59.378191Z",
     "shell.execute_reply": "2023-08-29T12:45:59.376779Z"
    },
    "papermill": {
     "duration": 5270.799471,
     "end_time": "2023-08-29T12:45:59.400894",
     "exception": false,
     "start_time": "2023-08-29T11:18:08.601423",
     "status": "completed"
    },
    "tags": []
   },
   "outputs": [
    {
     "name": "stdout",
     "output_type": "stream",
     "text": [
      "Accuracy: 0.99\n",
      "              precision    recall  f1-score   support\n",
      "\n",
      "           0       1.00      1.00      1.00    920176\n",
      "           1       0.98      0.95      0.97     79822\n",
      "\n",
      "    accuracy                           0.99    999998\n",
      "   macro avg       0.99      0.97      0.98    999998\n",
      "weighted avg       0.99      0.99      0.99    999998\n",
      "\n"
     ]
    }
   ],
   "source": [
    "from sklearn.feature_extraction.text import CountVectorizer\n",
    "from sklearn.ensemble import RandomForestClassifier\n",
    "from sklearn.metrics import classification_report, accuracy_score\n",
    "import pandas as pd\n",
    "\n",
    "\n",
    "# Step 1: Prepare the Data (Using the first 100 rows)\n",
    "df_subset = df  \n",
    "X = df_subset['password']\n",
    "y = df_subset['classification']  # Target labels\n",
    "\n",
    "# Step 2: Feature Extraction\n",
    "vectorizer = CountVectorizer(analyzer='char')  # Convert passwords into character n-grams\n",
    "X_transformed = vectorizer.fit_transform(X)\n",
    "\n",
    "# Step 3: Train the Random Forest Classifier\n",
    "clf = RandomForestClassifier(random_state=42)\n",
    "clf.fit(X_transformed, y)\n",
    "\n",
    "# Step 4: Evaluate the Model \n",
    "y_pred = clf.predict(X_transformed)\n",
    "accuracy = accuracy_score(y, y_pred)\n",
    "classification_rep = classification_report(y, y_pred)\n",
    "\n",
    "print(f\"Accuracy: {accuracy:.2f}\")\n",
    "print(classification_rep)"
   ]
  },
  {
   "cell_type": "code",
   "execution_count": 37,
   "id": "2068f382",
   "metadata": {
    "execution": {
     "iopub.execute_input": "2023-08-29T12:45:59.441893Z",
     "iopub.status.busy": "2023-08-29T12:45:59.441420Z",
     "iopub.status.idle": "2023-08-29T12:45:59.464506Z",
     "shell.execute_reply": "2023-08-29T12:45:59.462840Z"
    },
    "papermill": {
     "duration": 0.047291,
     "end_time": "2023-08-29T12:45:59.467142",
     "exception": false,
     "start_time": "2023-08-29T12:45:59.419851",
     "status": "completed"
    },
    "tags": []
   },
   "outputs": [
    {
     "name": "stdout",
     "output_type": "stream",
     "text": [
      "Predicted Classification: [0]\n"
     ]
    }
   ],
   "source": [
    "#Classify password \"test\"\n",
    "new_document = [\"test\"]\n",
    "new_document_transformed = vectorizer.transform(new_document)\n",
    "prediction = clf.predict(new_document_transformed)\n",
    "print(\"Predicted Classification:\", prediction)"
   ]
  },
  {
   "cell_type": "code",
   "execution_count": 38,
   "id": "71daf031",
   "metadata": {
    "execution": {
     "iopub.execute_input": "2023-08-29T12:45:59.507114Z",
     "iopub.status.busy": "2023-08-29T12:45:59.506612Z",
     "iopub.status.idle": "2023-08-29T12:45:59.532771Z",
     "shell.execute_reply": "2023-08-29T12:45:59.531171Z"
    },
    "papermill": {
     "duration": 0.050379,
     "end_time": "2023-08-29T12:45:59.536002",
     "exception": false,
     "start_time": "2023-08-29T12:45:59.485623",
     "status": "completed"
    },
    "tags": []
   },
   "outputs": [
    {
     "name": "stdout",
     "output_type": "stream",
     "text": [
      "Predicted Classification: [1]\n"
     ]
    }
   ],
   "source": [
    "#Classify password \"Repzo854@..lmao\"\n",
    "new_document = [\"Repzo854@..lmao\"]\n",
    "new_document_transformed = vectorizer.transform(new_document)\n",
    "prediction = clf.predict(new_document_transformed)\n",
    "print(\"Predicted Classification:\", prediction)"
   ]
  },
  {
   "cell_type": "code",
   "execution_count": 39,
   "id": "f96b151e",
   "metadata": {
    "execution": {
     "iopub.execute_input": "2023-08-29T12:45:59.578549Z",
     "iopub.status.busy": "2023-08-29T12:45:59.578099Z",
     "iopub.status.idle": "2023-08-29T12:46:08.766894Z",
     "shell.execute_reply": "2023-08-29T12:46:08.765329Z"
    },
    "papermill": {
     "duration": 9.213364,
     "end_time": "2023-08-29T12:46:08.769787",
     "exception": false,
     "start_time": "2023-08-29T12:45:59.556423",
     "status": "completed"
    },
    "tags": []
   },
   "outputs": [
    {
     "name": "stdout",
     "output_type": "stream",
     "text": [
      "0\n",
      "123456 0.0\n"
     ]
    }
   ],
   "source": [
    "from sklearn.metrics.pairwise import cosine_similarity\n",
    "from sklearn.feature_extraction.text import TfidfVectorizer\n",
    "# Initialize the vectorizer\n",
    "vectorizer = TfidfVectorizer()\n",
    "tfidf_matrix = vectorizer.fit_transform(df['password'])\n",
    "\n",
    "# Transform the password you want to check\n",
    "password_to_check = 'paszworld'\n",
    "password_tfidf = vectorizer.transform([password_to_check])\n",
    "\n",
    "# Calculate cosine similarity between the password and the entire column\n",
    "cosine_similarities = cosine_similarity(password_tfidf, tfidf_matrix)\n",
    "\n",
    "max_similarity_index = cosine_similarities.argmax()\n",
    "print(max_similarity_index)\n",
    "\n",
    "# Extract the most similar password and its similarity value\n",
    "most_similar_password = df['password'][max_similarity_index]\n",
    "max_similarity_value = cosine_similarities[0, max_similarity_index]\n",
    "print(most_similar_password, max_similarity_value)\n"
   ]
  },
  {
   "cell_type": "code",
   "execution_count": 40,
   "id": "86c62b4a",
   "metadata": {
    "execution": {
     "iopub.execute_input": "2023-08-29T12:46:08.811516Z",
     "iopub.status.busy": "2023-08-29T12:46:08.810805Z",
     "iopub.status.idle": "2023-08-29T12:46:09.944272Z",
     "shell.execute_reply": "2023-08-29T12:46:09.942841Z"
    },
    "papermill": {
     "duration": 1.158117,
     "end_time": "2023-08-29T12:46:09.947220",
     "exception": false,
     "start_time": "2023-08-29T12:46:08.789103",
     "status": "completed"
    },
    "tags": []
   },
   "outputs": [
    {
     "name": "stdout",
     "output_type": "stream",
     "text": [
      "The most similar password is 'passworld' with a Levenshtein distance of 1.\n"
     ]
    }
   ],
   "source": [
    "\n",
    "import Levenshtein\n",
    "# Password to check\n",
    "password_to_check = 'paszworld'\n",
    "\n",
    "# Calculate Levenshtein distances\n",
    "lev_distances = [Levenshtein.distance(password_to_check, password) for password in df['password']]\n",
    "\n",
    "# Find the index of the most similar password based on the minimum Levenshtein distance\n",
    "min_distance_index = lev_distances.index(min(lev_distances))\n",
    "\n",
    "# Extract the most similar password and its Levenshtein distance\n",
    "most_similar_password = df['password'][min_distance_index]\n",
    "min_lev_distance = lev_distances[min_distance_index]\n",
    "\n",
    "print(f\"The most similar password is '{most_similar_password}' with a Levenshtein distance of {min_lev_distance}.\")\n"
   ]
  }
 ],
 "metadata": {
  "kernelspec": {
   "display_name": "Python 3",
   "language": "python",
   "name": "python3"
  },
  "language_info": {
   "codemirror_mode": {
    "name": "ipython",
    "version": 3
   },
   "file_extension": ".py",
   "mimetype": "text/x-python",
   "name": "python",
   "nbconvert_exporter": "python",
   "pygments_lexer": "ipython3",
   "version": "3.10.12"
  },
  "papermill": {
   "default_parameters": {},
   "duration": 5437.739402,
   "end_time": "2023-08-29T12:46:11.507093",
   "environment_variables": {},
   "exception": null,
   "input_path": "__notebook__.ipynb",
   "output_path": "__notebook__.ipynb",
   "parameters": {},
   "start_time": "2023-08-29T11:15:33.767691",
   "version": "2.4.0"
  }
 },
 "nbformat": 4,
 "nbformat_minor": 5
}
